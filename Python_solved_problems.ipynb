{
  "nbformat": 4,
  "nbformat_minor": 0,
  "metadata": {
    "colab": {
      "name": "Python solved problems.ipynb",
      "provenance": [],
      "collapsed_sections": [],
      "authorship_tag": "ABX9TyPptvxqHhL73O0TR+6Uvhf7",
      "include_colab_link": true
    },
    "kernelspec": {
      "name": "python3",
      "display_name": "Python 3"
    },
    "language_info": {
      "name": "python"
    }
  },
  "cells": [
    {
      "cell_type": "markdown",
      "metadata": {
        "id": "view-in-github",
        "colab_type": "text"
      },
      "source": [
        "<a href=\"https://colab.research.google.com/github/Shamsher12345/Python-solved-examples/blob/main/Python_solved_problems.ipynb\" target=\"_parent\"><img src=\"https://colab.research.google.com/assets/colab-badge.svg\" alt=\"Open In Colab\"/></a>"
      ]
    },
    {
      "cell_type": "markdown",
      "source": [
        "**1.Program in python to get inputs from the user and find all the arithmetic operations.**"
      ],
      "metadata": {
        "id": "_KHakOIrpeNW"
      }
    },
    {
      "cell_type": "code",
      "execution_count": null,
      "metadata": {
        "colab": {
          "base_uri": "https://localhost:8080/"
        },
        "id": "tb5ndtKMoilz",
        "outputId": "85a70c8b-5c0f-446a-8bf2-d60fadadd86c"
      },
      "outputs": [
        {
          "output_type": "stream",
          "name": "stdout",
          "text": [
            "Enter 1nd no.:5\n",
            "Enter 2st no.:3\n",
            "addition is: 8\n",
            "subtraction is: 2\n",
            "multiplication is: 15\n",
            "division is: 1.6666666666666667\n"
          ]
        }
      ],
      "source": [
        "a=int(input(\"Enter 1nd no.:\"))\n",
        "b=int(input(\"Enter 2st no.:\"))\n",
        "print(\"addition is:\",a+b)\n",
        "print(\"subtraction is:\",a-b)\n",
        "print(\"multiplication is:\",a*b)\n",
        "print(\"division is:\",a/b)"
      ]
    },
    {
      "cell_type": "markdown",
      "source": [
        "**2.Program in python to perform swapping of two numbers using a temporary variable**"
      ],
      "metadata": {
        "id": "GITJSLbdp1Ue"
      }
    },
    {
      "cell_type": "code",
      "source": [
        "num1 = input('Enter First Number: ')\n",
        "num2 = input('Enter Second Number: ')\n",
        "\n",
        "print(\"Value of num1 before swapping: \", num1)\n",
        "print(\"Value of num2 before swapping: \", num2)\n",
        "\n",
        "# swapping two numbers using temporary variable\n",
        "temp = num1\n",
        "num1 = num2\n",
        "num2 = temp\n",
        "\n",
        "print(\"Value of num1 after swapping: \", num1)\n",
        "print(\"Value of num2 after swapping: \", num2)"
      ],
      "metadata": {
        "colab": {
          "base_uri": "https://localhost:8080/"
        },
        "id": "8WrSNVLGp5Cc",
        "outputId": "8690399a-bc1e-4e27-c67b-c42c6345ec3b"
      },
      "execution_count": null,
      "outputs": [
        {
          "output_type": "stream",
          "name": "stdout",
          "text": [
            "Enter First Number: 101\n",
            "Enter Second Number: 99\n",
            "Value of num1 before swapping:  101\n",
            "Value of num2 before swapping:  99\n",
            "Value of num1 after swapping:  99\n",
            "Value of num2 after swapping:  101\n"
          ]
        }
      ]
    },
    {
      "cell_type": "markdown",
      "source": [
        "**3.Program in python to calculate simple interest**"
      ],
      "metadata": {
        "id": "yXgOCwQIsHeI"
      }
    },
    {
      "cell_type": "code",
      "source": [
        "P = float(input(\"Enter the principal amount : \"))\n",
        " \n",
        "N = float(input(\"Enter the number of years : \"))\n",
        " \n",
        "R = float(input(\"Enter the rate of interest : \"))\n",
        " \n",
        "#calculate simple interest by using this formula\n",
        "SI = (P * N * R)/100\n",
        " \n",
        "#print\n",
        "print(\"Simple interest : {}\".format(SI))\n"
      ],
      "metadata": {
        "colab": {
          "base_uri": "https://localhost:8080/"
        },
        "id": "OXTdzir3sPaX",
        "outputId": "11548d95-d737-4ff1-ddeb-2f482ae12e1b"
      },
      "execution_count": null,
      "outputs": [
        {
          "output_type": "stream",
          "name": "stdout",
          "text": [
            "Enter the principal amount : 1000\n",
            "Enter the number of years : 2\n",
            "Enter the rate of interest : 5\n",
            "Simple interest : 100.0\n"
          ]
        }
      ]
    },
    {
      "cell_type": "markdown",
      "source": [
        "**4.Program in python to find net salary,Input basic salary and grosspay,  HRA(house rent allow) is 20% of BP(basic pay),  DA(dearness allow) is 90% of BP,  NP=BP+HRA+DA-PF.**"
      ],
      "metadata": {
        "id": "YF-xdB-ptUhi"
      }
    },
    {
      "cell_type": "code",
      "source": [
        "print(\"SALARY PROGRAM\")\n",
        "name= str(input(\"Enter name of employee:\"))\n",
        "basic=float(input(\"Enter Basic Salary :\"))\n",
        "da=float(basic*0.9)\n",
        "hra=float(basic*0.2)\n",
        "pf=float((basic+da)*0.12)\n",
        "ta=float(basic*0.075)\n",
        "netpay=float(basic+da+hra+ta)\n",
        "grosspay=float(netpay-pf)\n",
        "\n",
        "print(\"\\n\\n\")\n",
        "print(\"S A L A R Y D E T A I L E D B R E A K U P \")\n",
        "print(\"==============================================\")\n",
        "print(\" NAME OF EMPLOYEE : \",name)\n",
        "print(\" BASIC SALARY : \",basic)\n",
        "print(\" DEARNESS ALLOW. : \",da)\n",
        "print(\" HOUSE RENT ALLOW.: \",hra)\n",
        "print(\" TRAVEL ALLOW. : \",ta)\n",
        "print(\"==============================================\")\n",
        "print(\" NET SALARY PAY : \",netpay)\n",
        "print(\" PROVIDENT FUND : \",pf)\n",
        "print(\"==============================================\")\n",
        "print(\" GROSS PAYMENT : \",grosspay)\n",
        "print(\"==============================================\")\n",
        "\n"
      ],
      "metadata": {
        "colab": {
          "base_uri": "https://localhost:8080/"
        },
        "id": "uxVkyYOaq9Eb",
        "outputId": "c7582db6-37f0-404b-ec7c-bcf7b14f4dea"
      },
      "execution_count": null,
      "outputs": [
        {
          "output_type": "stream",
          "name": "stdout",
          "text": [
            "SALARY PROGRAM\n",
            "Enter name of employee:Raj\n",
            "Enter Basic Salary :18500\n",
            "\n",
            "\n",
            "\n",
            "S A L A R Y D E T A I L E D B R E A K U P \n",
            "==============================================\n",
            " NAME OF EMPLOYEE :  Raj\n",
            " BASIC SALARY :  18500.0\n",
            " DEARNESS ALLOW. :  16650.0\n",
            " HOUSE RENT ALLOW.:  3700.0\n",
            " TRAVEL ALLOW. :  1387.5\n",
            "==============================================\n",
            " NET SALARY PAY :  40237.5\n",
            " PROVIDENT FUND :  4218.0\n",
            "==============================================\n",
            " GROSS PAYMENT :  36019.5\n",
            "==============================================\n"
          ]
        }
      ]
    },
    {
      "cell_type": "markdown",
      "source": [
        "**5.Python program to enter price and then enter the discounted price and show the discount and selling price.**"
      ],
      "metadata": {
        "id": "OLEzkaQhsVjR"
      }
    },
    {
      "cell_type": "code",
      "source": [
        "price=float(input(\"Enter Price : \"))\n",
        "dp=float(input(\"Enter discounted price % : \"))\n",
        "discount=(price*dp)/100\n",
        "sp=price-discount\n",
        "print(\"Cost Price : \",price)\n",
        "print(\"Discount: \",discount)\n",
        "print(\"Selling Price : \",sp)"
      ],
      "metadata": {
        "colab": {
          "base_uri": "https://localhost:8080/"
        },
        "id": "bWZOApqzsl-d",
        "outputId": "10cd0bc5-3f5b-4c5f-d8f7-0489f26188ca"
      },
      "execution_count": null,
      "outputs": [
        {
          "output_type": "stream",
          "name": "stdout",
          "text": [
            "Enter Price : 14000\n",
            "Enter discounted price % : 12\n",
            "Cost Price :  14000.0\n",
            "Discount:  1680.0\n",
            "Selling Price :  12320.0\n"
          ]
        }
      ]
    },
    {
      "cell_type": "markdown",
      "source": [
        "**6.  Assign grades to students**\n",
        "       #Input five subjects marks out of 100 and assign A grade to more than 90%,\n",
        "       #B grade to more than 80% C grade to more than 70% otherwise fail**"
      ],
      "metadata": {
        "id": "-v2V2xlm37i7"
      }
    },
    {
      "cell_type": "code",
      "source": [
        "sub1=int(input(\"Enter marks of the first subject: \"))\n",
        "sub2=int(input(\"Enter marks of the second subject: \"))\n",
        "sub3=int(input(\"Enter marks of the third subject: \"))\n",
        "sub4=int(input(\"Enter marks of the fourth subject: \"))\n",
        "sub5=int(input(\"Enter marks of the fifth subject: \"))\n",
        "avg=(sub1+sub2+sub3+sub4+sub4)/5\n",
        "if(avg>=90):\n",
        "    print(\"Grade: A\")\n",
        "elif((avg>=80) & (avg<90)):\n",
        "    print(\"Grade: B\")\n",
        "elif((avg>=70) & (avg<80)):\n",
        "    print(\"Grade: C\")\n",
        "elif((avg>=60) & (avg<70)):\n",
        "    print(\"Grade: D\")\n",
        "else:\n",
        "    print(\"Grade: F\")"
      ],
      "metadata": {
        "colab": {
          "base_uri": "https://localhost:8080/"
        },
        "id": "8h0jFthEZNXk",
        "outputId": "3559f5a8-81c2-4202-df3e-41c608c991cf"
      },
      "execution_count": null,
      "outputs": [
        {
          "output_type": "stream",
          "name": "stdout",
          "text": [
            "Enter marks of the first subject: 98\n",
            "Enter marks of the second subject: 56\n",
            "Enter marks of the third subject: 89\n",
            "Enter marks of the fourth subject: 90\n",
            "Enter marks of the fifth subject: 45\n",
            "Grade: B\n"
          ]
        }
      ]
    },
    {
      "cell_type": "markdown",
      "source": [
        "**7. Python program to input a no. and check whether it's an armstrong no. or not.**"
      ],
      "metadata": {
        "id": "X2uHHeYV4i8g"
      }
    },
    {
      "cell_type": "code",
      "source": [
        "num=int(input(\"enter a number:\"))\n",
        "#Let's consider the num value is 173; i.e., num=173\n",
        "sum=0\n",
        "temp=num #here temp is an temporary variable\n",
        "while temp>0:\n",
        "    r=temp%10 #remiander value will be stored in 'r' variable\n",
        "    sum=sum+r*r*r\n",
        "    temp=temp//10 #temp will be assigned floor value\n",
        "if(num==sum):\n",
        "    print(\"armstrong number\")\n",
        "else:\n",
        "    print(\"not armstrong no\")\n",
        "\n",
        "\n",
        "\n",
        "\n",
        "\n",
        "\n",
        "\n"
      ],
      "metadata": {
        "id": "GnPOlK-i0j6H"
      },
      "execution_count": null,
      "outputs": []
    },
    {
      "cell_type": "markdown",
      "source": [
        "**8. Python program to find sum of digits of a number**"
      ],
      "metadata": {
        "id": "utS3P7CB4vWG"
      }
    },
    {
      "cell_type": "code",
      "source": [
        "s=0\n",
        "num=int(input(\"Enter a number:\"))\n",
        "while(num>0):\n",
        "  r=num%10 # the remainder value will be stored in 'r' variable\n",
        "  s=s+r\n",
        "  num=num//10 # the floor value will be stored in 'num' variable\n",
        "  print(\"sum of digits of number\",s)"
      ],
      "metadata": {
        "id": "DLLugWKc1Qkf",
        "colab": {
          "base_uri": "https://localhost:8080/"
        },
        "outputId": "f203398d-f8e9-4ac1-8528-bbc8dd55a726"
      },
      "execution_count": null,
      "outputs": [
        {
          "output_type": "stream",
          "name": "stdout",
          "text": [
            "Enter a number:345\n",
            "sum of digits of number 5\n",
            "sum of digits of number 9\n",
            "sum of digits of number 12\n"
          ]
        }
      ]
    },
    {
      "cell_type": "markdown",
      "source": [
        "**9.Python Program to Check Whether a Given Number is Perfect Number or not**"
      ],
      "metadata": {
        "id": "tpmyRZy67h6P"
      }
    },
    {
      "cell_type": "code",
      "source": [
        "n = int(input(\"Enter any number: \"))\n",
        "sum1 = 0\n",
        "for i in range(1, n):\n",
        "    if(n % i == 0):\n",
        "        sum1 = sum1 + i\n",
        "if (sum1 == n):\n",
        "    print(\"The number is a Perfect number!\")\n",
        "else:\n",
        "    print(\"The number is not a Perfect number!\")"
      ],
      "metadata": {
        "id": "S_ByXY2i7VsR",
        "colab": {
          "base_uri": "https://localhost:8080/"
        },
        "outputId": "cac9857f-43d7-42dd-974e-acbb6b3bd509"
      },
      "execution_count": null,
      "outputs": [
        {
          "output_type": "stream",
          "name": "stdout",
          "text": [
            "Enter any number: 28\n",
            "The number is a Perfect number!\n"
          ]
        }
      ]
    },
    {
      "cell_type": "markdown",
      "source": [
        "**10.WAP to calculate sum of even and odd numbers till 20.**"
      ],
      "metadata": {
        "id": "FWxLQwvW9BW1"
      }
    },
    {
      "cell_type": "code",
      "source": [
        "max=int(input(\"please enter the maximum value: \"))\n",
        "even_Sum=0\n",
        "odd_Sum=0\n",
        "for num in range(1,max+1):\n",
        "    if (num%2==0):\n",
        "        even_Sum=even_Sum+num\n",
        "    else:\n",
        "        odd_Sum=odd_Sum+num\n",
        "print(\"The sum of Even numbers 1 to {0} = {1}\".format(num,even_Sum))\n",
        "print(\"The sum of odd numbers 1 to {0} = {1}\".format(num,odd_Sum))"
      ],
      "metadata": {
        "id": "yRgg1t048__P"
      },
      "execution_count": null,
      "outputs": []
    },
    {
      "cell_type": "markdown",
      "source": [
        "**11.Python Program to Check whether a Number is Prime or not.**"
      ],
      "metadata": {
        "id": "KWlEaqn_YIg3"
      }
    },
    {
      "cell_type": "code",
      "source": [
        "# Python Program to Check Prime Number\n",
        "num = int(input(\"Enter a number: \"))\n",
        "# defining a flag variable\n",
        "flag = 1\n",
        "# Checking for factors\n",
        "for i in range(2, int (num/2)):\n",
        "    if num % i == 0:\n",
        "        flag = 0\n",
        "        break\n",
        "# Display output\n",
        "if flag == 1 and num >= 2:\n",
        "    print(num, \"is a prime number.\")\n",
        "else:\n",
        "    print(num, \"is not a prime number.\")"
      ],
      "metadata": {
        "colab": {
          "base_uri": "https://localhost:8080/"
        },
        "id": "M7VPjtp9YCxn",
        "outputId": "d78579e3-24fb-4165-87b0-693a39e06948"
      },
      "execution_count": null,
      "outputs": [
        {
          "output_type": "stream",
          "name": "stdout",
          "text": [
            "Enter a number: 17\n",
            "17 is a prime number.\n"
          ]
        }
      ]
    },
    {
      "cell_type": "markdown",
      "source": [
        "**12.Python program to find Sum of reciprocal of first 100 natural numbers.**"
      ],
      "metadata": {
        "id": "ILRiGLv0a3Tw"
      }
    },
    {
      "cell_type": "code",
      "source": [
        "n = int(input(\"Enter n:\"))\n",
        "s = 0.0\n",
        "for i in range (1,n+1):\n",
        "     s = s+1.0/(i*i)\n",
        "print(s)"
      ],
      "metadata": {
        "colab": {
          "base_uri": "https://localhost:8080/"
        },
        "id": "y8UYg483a1IE",
        "outputId": "b3e5f65f-30c7-4fa6-ac45-7126cd1c1be3"
      },
      "execution_count": null,
      "outputs": [
        {
          "output_type": "stream",
          "name": "stdout",
          "text": [
            "Enter n:100\n",
            "1.6349839001848923\n"
          ]
        }
      ]
    },
    {
      "cell_type": "markdown",
      "source": [
        "**13. Input 5 integer numbers from user and print sum of only positive numbers.**"
      ],
      "metadata": {
        "id": "A1EtGC9fUWQ1"
      }
    },
    {
      "cell_type": "code",
      "source": [
        "num1=int(input(\"Enter 1st no:\"))       \n",
        "num2=int(input(\"Enter 2nd no:\"))\n",
        "num3=int(input(\"Enter 3rd no:\"))\n",
        "num4=int(input(\"Enter 4th no:\"))\n",
        "num5=int(input(\"Enter 5th no:\"))\n",
        "l1=[]\n",
        "l1.append(num1)\n",
        "l1.append(num2)\n",
        "l1.append(num3)\n",
        "l1.append(num4)\n",
        "l1.append(num5)\n",
        "s=0\n",
        "for num in l1:\n",
        "    if(num%2==0):\n",
        "        s=s+num\n",
        "print(\"Sum of only positive no's is:\",s)\n"
      ],
      "metadata": {
        "id": "Ry62M29kUTFt",
        "colab": {
          "base_uri": "https://localhost:8080/"
        },
        "outputId": "071f3e4c-cd68-4dfd-f72d-26d033b494c9"
      },
      "execution_count": null,
      "outputs": [
        {
          "output_type": "stream",
          "name": "stdout",
          "text": [
            "Enter 1st no:5\n",
            "Enter 2nd no:4\n",
            "Enter 3rd no:5\n",
            "Enter 4th no:8\n",
            "Enter 5th no:9\n",
            "Sum of only positive no's is: 12\n"
          ]
        }
      ]
    },
    {
      "cell_type": "markdown",
      "source": [
        "**14. Program to print table from 2 to 5**"
      ],
      "metadata": {
        "id": "M-JuBPvcbJO7"
      }
    },
    {
      "cell_type": "code",
      "source": [
        "for i in range(2,6):\n",
        "    print(f\"The multiplication table of {str(i)} is:\")\n",
        "    for num in range(1,11):\n",
        "       print(f\"{str(i)} X {str(num)} = {str(i*num)}\")\n",
        "    print(\"===========================================\")\n",
        "       "
      ],
      "metadata": {
        "id": "3vFbhcRVbIJJ"
      },
      "execution_count": null,
      "outputs": []
    },
    {
      "cell_type": "markdown",
      "source": [
        "**15. Program to count occurence of character in string.**"
      ],
      "metadata": {
        "id": "C0eat7E40RZZ"
      }
    },
    {
      "cell_type": "code",
      "source": [
        "john=\"shelly is a smart is is boy.\\nhe  v\\ter\\\\y good\"\n",
        "print(john.count(\"b\"))"
      ],
      "metadata": {
        "id": "BpIKDJQJ0qEQ"
      },
      "execution_count": null,
      "outputs": []
    },
    {
      "cell_type": "markdown",
      "source": [
        "**16.Program to replace a character with a special symbol in a string**"
      ],
      "metadata": {
        "id": "_TJGDz3YTaem"
      }
    },
    {
      "cell_type": "code",
      "source": [
        "str='favtutor'\n",
        "index=0\n",
        "new_character='@'\n",
        "temp=list(str)\n",
        "temp[index]=new_character\n",
        "str=\"\".join(temp)\n",
        "print(str)\n"
      ],
      "metadata": {
        "colab": {
          "base_uri": "https://localhost:8080/"
        },
        "id": "-c9om97aTeCC",
        "outputId": "3c0a43a4-e464-4b28-f070-7a1ffe55a851"
      },
      "execution_count": null,
      "outputs": [
        {
          "output_type": "stream",
          "name": "stdout",
          "text": [
            "@avtutor\n"
          ]
        }
      ]
    },
    {
      "cell_type": "markdown",
      "source": [
        "**17.Program to convert a letter in a string into upper case**"
      ],
      "metadata": {
        "id": "J9O9nuJ6Ts61"
      }
    },
    {
      "cell_type": "code",
      "source": [
        "str='favtutor'\n",
        "index=0\n",
        "new_character='F'\n",
        "str=str[:index]  +  new_character + str[index+1:]\n",
        "print(str)"
      ],
      "metadata": {
        "colab": {
          "base_uri": "https://localhost:8080/"
        },
        "id": "GFEo2cItTuhq",
        "outputId": "e2d4cbe4-0b3a-4822-cfb4-5e184b0fcec2"
      },
      "execution_count": null,
      "outputs": [
        {
          "output_type": "stream",
          "name": "stdout",
          "text": [
            "Favtutor\n"
          ]
        }
      ]
    },
    {
      "cell_type": "markdown",
      "source": [
        "**18. Program to check a string is palindrome.**"
      ],
      "metadata": {
        "id": "h0g__PuhT5N0"
      }
    },
    {
      "cell_type": "code",
      "source": [
        "str_1=input(\"Enter  string:\")\n",
        "str_1=str_1.casefold()\n",
        "rev_str=reversed(str_1)\n",
        "if(list (str_1))==list(rev_str):\n",
        "      print(\"The string is a palindrome\")\n",
        "else:\n",
        "      print(\"The string is not palindrome\")"
      ],
      "metadata": {
        "colab": {
          "base_uri": "https://localhost:8080/"
        },
        "id": "jrj3n17LUn0Y",
        "outputId": "4fc81881-0a64-4406-eaaf-5ae8da5c683b"
      },
      "execution_count": null,
      "outputs": [
        {
          "output_type": "stream",
          "name": "stdout",
          "text": [
            "Enter  string:madam\n",
            "The string is a palindrome\n"
          ]
        }
      ]
    },
    {
      "cell_type": "markdown",
      "source": [
        "**19. Program to count digits, alphabets and symbols in a string**"
      ],
      "metadata": {
        "id": "lAb2QKEyUus7"
      }
    },
    {
      "cell_type": "code",
      "source": [
        "string=input(\"Enter a string:\")\n",
        "alphabets=0\n",
        "digits=0\n",
        "specialChars=0\n",
        "#checks for each character in the string\n",
        "for i in string:\n",
        "    #if character of the string is an alphabet\n",
        "      if i.isalpha():\n",
        "          alphabets+=1\n",
        "      #if character of the string is a digit\n",
        "      elif i.isdigit():\n",
        "        digits+=1\n",
        "      else:#if the character of the string is a special character\n",
        "        specialChars+=1\n",
        "print(\"alphabets=\",alphabets,\"ddigits=\",digits,\"specialChars=\",specialChars)"
      ],
      "metadata": {
        "colab": {
          "base_uri": "https://localhost:8080/"
        },
        "id": "nhFuapudUwJU",
        "outputId": "e58ba4e0-5a2c-43bb-a8db-bc1cb16a6c4b"
      },
      "execution_count": null,
      "outputs": [
        {
          "output_type": "stream",
          "name": "stdout",
          "text": [
            "Enter a string:Ques123!@#we12\n",
            "alphabets= 6 ddigits= 5 specialChars= 3\n"
          ]
        }
      ]
    },
    {
      "cell_type": "markdown",
      "source": [
        "**20.Program to sort a random list and find the sorted middest element**"
      ],
      "metadata": {
        "id": "1MRdaTbLVR2P"
      }
    },
    {
      "cell_type": "code",
      "source": [
        "my_list=[4,3,2,9,10,44,1]\n",
        "my_list.sort()\n",
        "print(\"sorted list is\",my_list)\n",
        "print(\"mid value is\",my_list[int(len(my_list)/2)])"
      ],
      "metadata": {
        "colab": {
          "base_uri": "https://localhost:8080/"
        },
        "id": "MIcCmpLmVS_9",
        "outputId": "a81c6e97-20c9-43be-85ab-6c0e4fc0243e"
      },
      "execution_count": null,
      "outputs": [
        {
          "output_type": "stream",
          "name": "stdout",
          "text": [
            "sorted list is [1, 2, 3, 4, 9, 10, 44]\n",
            "mid value is 4\n"
          ]
        }
      ]
    },
    {
      "cell_type": "markdown",
      "source": [
        "**21. Program to read a string and calculate total number of words in it.**"
      ],
      "metadata": {
        "id": "6vkBEZTKVopW"
      }
    },
    {
      "cell_type": "code",
      "source": [
        "str1=input(\"Please enter your own string:\")\n",
        "total=1\n",
        "i=0\n",
        "while(i<len(str1)):\n",
        "    if(str1[i]==''or str1 == '\\n' or str1 == '\\t'):\n",
        "        total=total+1\n",
        "    i=i+1\n",
        "print(\"Total numbers of words in this sting=\",total)\n",
        "   "
      ],
      "metadata": {
        "colab": {
          "base_uri": "https://localhost:8080/"
        },
        "id": "B9cZv0y7VtP4",
        "outputId": "a43e4445-f0e1-4918-b388-f9c086ed8db6"
      },
      "execution_count": null,
      "outputs": [
        {
          "output_type": "stream",
          "name": "stdout",
          "text": [
            "Please enter your own string:Rahul is a good boy\n",
            "Total numbers of words in this sting= 1\n"
          ]
        }
      ]
    },
    {
      "cell_type": "markdown",
      "source": [
        "**22. WAP to reverse a number using function**"
      ],
      "metadata": {
        "id": "L477pGXrIrPM"
      }
    },
    {
      "cell_type": "code",
      "source": [
        "# function to reverse a number\n",
        "def reverse(n):\n",
        "    reversed_num = 0\n",
        "    \n",
        "    # start a while loop till complete number has been reversed\n",
        "    while n != 0 :\n",
        "        \n",
        "        # taking modulo with 10 gives us the last digit of num\n",
        "        curr_digit = n % 10\n",
        "        \n",
        "        # appending the last digit of num to reversed_num\n",
        "        # for this we multiply the curr reversed_num by 10 and add curr_digit to it\n",
        "        reversed_num = 10*reversed_num \n",
        "        reversed_num = reversed_num + curr_digit\n",
        "        \n",
        "        # remove the last digit from num by dividing it by 10\n",
        "        n = n // 10\n",
        "        \n",
        "    # we get the reversed_num\n",
        "    return reversed_num\n",
        "\n",
        "# the number to be reversed\n",
        "num = 372519"
      ],
      "metadata": {
        "id": "RuiI7ilEIpI8"
      },
      "execution_count": null,
      "outputs": []
    },
    {
      "cell_type": "markdown",
      "source": [
        "**23.WAP to calculate upper and lower case characters in a string.**"
      ],
      "metadata": {
        "id": "MUNJx-b_JEgb"
      }
    },
    {
      "cell_type": "code",
      "source": [
        "def string_test(s):\n",
        "    d={\"UPPER_CASE\":0, \"LOWER_CASE\":0}\n",
        "    for c in s:\n",
        "        if c.isupper():\n",
        "           d[\"UPPER_CASE\"]+=1\n",
        "        elif c.islower():\n",
        "           d[\"LOWER_CASE\"]+=1\n",
        "        else:\n",
        "           pass\n",
        "    print (\"Original String : \", s)\n",
        "    print (\"No. of Upper case characters : \", d[\"UPPER_CASE\"])\n",
        "    print (\"No. of Lower case Characters : \", d[\"LOWER_CASE\"])\n",
        "\n",
        "string_test('The quick Brown Fox')\n"
      ],
      "metadata": {
        "colab": {
          "base_uri": "https://localhost:8080/"
        },
        "id": "aSzf-A6XKCqz",
        "outputId": "38cb1517-ecbd-4ef3-e6b9-d2afa0aba5bd"
      },
      "execution_count": null,
      "outputs": [
        {
          "output_type": "stream",
          "name": "stdout",
          "text": [
            "Original String :  The quick Brown Fox\n",
            "No. of Upper case characters :  3\n",
            "No. of Lower case Characters :  13\n"
          ]
        }
      ]
    },
    {
      "cell_type": "markdown",
      "source": [
        "**24. WAP to check whether a no. is a prime number or not using function**"
      ],
      "metadata": {
        "id": "Is8vKoBuKPEw"
      }
    },
    {
      "cell_type": "code",
      "source": [
        "def isprime(num):\n",
        "    if num>1:\n",
        "        for n in range(2,num):\n",
        "            if(num%n)==0:\n",
        "                return False\n",
        "        return True\n",
        "    else:\n",
        "        return False\n",
        "print(isprime(64))\n",
        "print(isprime(5))"
      ],
      "metadata": {
        "id": "PnwCLvb6KarK",
        "outputId": "7813a854-2712-43dd-906a-b15dc003b44e",
        "colab": {
          "base_uri": "https://localhost:8080/"
        }
      },
      "execution_count": null,
      "outputs": [
        {
          "output_type": "stream",
          "name": "stdout",
          "text": [
            "False\n",
            "True\n"
          ]
        }
      ]
    },
    {
      "cell_type": "markdown",
      "source": [
        "**25.Python program to get transpose of a matrix using list comprehension**"
      ],
      "metadata": {
        "id": "e1XFCQh9WcwM"
      }
    },
    {
      "cell_type": "code",
      "source": [
        "matrix = [[1, 2], [3,4], [5,6], [7,8]]\n",
        "transpose = [[row[i] for row in matrix] for i in range(2)]\n",
        "print (transpose)"
      ],
      "metadata": {
        "colab": {
          "base_uri": "https://localhost:8080/"
        },
        "id": "eU2ZtcK2Wrav",
        "outputId": "b0d0c925-d05b-4abd-defe-4c9c3bcdbc9c"
      },
      "execution_count": null,
      "outputs": [
        {
          "output_type": "stream",
          "name": "stdout",
          "text": [
            "[[1, 3, 5, 7], [2, 4, 6, 8]]\n"
          ]
        }
      ]
    },
    {
      "cell_type": "markdown",
      "source": [
        "**26.Python program Based on a list of fruits, we want a new list, containing only the fruits with the letter \"a\" in the name.**"
      ],
      "metadata": {
        "id": "4ipaViBkXcvy"
      }
    },
    {
      "cell_type": "code",
      "source": [
        "fruits = [\"apple\", \"banana\", \"cherry\", \"kiwi\", \"mango\"]\n",
        "newlist = [x for x in fruits if \"a\" in x]\n",
        "\n",
        "print(newlist)"
      ],
      "metadata": {
        "colab": {
          "base_uri": "https://localhost:8080/"
        },
        "id": "jOhN0jixXfYD",
        "outputId": "cc7ec0e8-4b36-4058-9cdc-877813da0b11"
      },
      "execution_count": null,
      "outputs": [
        {
          "output_type": "stream",
          "name": "stdout",
          "text": [
            "['apple', 'banana', 'mango']\n"
          ]
        }
      ]
    },
    {
      "cell_type": "code",
      "source": [
        "#importing numpy and putting different functions like arange and reshape to arrange elements in an array.\n",
        "import numpy as np\n",
        "n=np.arange(20,11,-1)\n",
        "print(n)\n",
        "n1=n.reshape(3,3)\n",
        "print(n1)"
      ],
      "metadata": {
        "colab": {
          "base_uri": "https://localhost:8080/"
        },
        "id": "I4n1ARSAj87t",
        "outputId": "071bc315-076e-4fc1-89e7-6eef6472b6ef"
      },
      "execution_count": null,
      "outputs": [
        {
          "output_type": "stream",
          "name": "stdout",
          "text": [
            "[20 19 18 17 16 15 14 13 12]\n",
            "[[20 19 18]\n",
            " [17 16 15]\n",
            " [14 13 12]]\n"
          ]
        }
      ]
    },
    {
      "cell_type": "code",
      "source": [
        "n1=np.arange(24).reshape(3,4,2)\n",
        "print(n1)\n",
        "n2=np.arange(24,0,-1).reshape(3,4,2)\n",
        "print(n2)\n",
        "n1+2"
      ],
      "metadata": {
        "colab": {
          "base_uri": "https://localhost:8080/"
        },
        "id": "s_TYgRWmnAuL",
        "outputId": "87ef3509-df75-4742-8f30-9cf96ab4090a"
      },
      "execution_count": null,
      "outputs": [
        {
          "output_type": "stream",
          "name": "stdout",
          "text": [
            "[[[ 0  1]\n",
            "  [ 2  3]\n",
            "  [ 4  5]\n",
            "  [ 6  7]]\n",
            "\n",
            " [[ 8  9]\n",
            "  [10 11]\n",
            "  [12 13]\n",
            "  [14 15]]\n",
            "\n",
            " [[16 17]\n",
            "  [18 19]\n",
            "  [20 21]\n",
            "  [22 23]]]\n",
            "[[[24 23]\n",
            "  [22 21]\n",
            "  [20 19]\n",
            "  [18 17]]\n",
            "\n",
            " [[16 15]\n",
            "  [14 13]\n",
            "  [12 11]\n",
            "  [10  9]]\n",
            "\n",
            " [[ 8  7]\n",
            "  [ 6  5]\n",
            "  [ 4  3]\n",
            "  [ 2  1]]]\n"
          ]
        },
        {
          "output_type": "execute_result",
          "data": {
            "text/plain": [
              "array([[[ 2,  3],\n",
              "        [ 4,  5],\n",
              "        [ 6,  7],\n",
              "        [ 8,  9]],\n",
              "\n",
              "       [[10, 11],\n",
              "        [12, 13],\n",
              "        [14, 15],\n",
              "        [16, 17]],\n",
              "\n",
              "       [[18, 19],\n",
              "        [20, 21],\n",
              "        [22, 23],\n",
              "        [24, 25]]])"
            ]
          },
          "metadata": {},
          "execution_count": 9
        }
      ]
    },
    {
      "cell_type": "code",
      "source": [
        "import numpy as np\n",
        "url  = \"https://raw.githubusercontent.com/sarwansingh/Python/master/ClassExamples/data/wines/winequality-red.csv\""
      ],
      "metadata": {
        "id": "uc8Lm3D8f-sQ"
      },
      "execution_count": null,
      "outputs": []
    },
    {
      "cell_type": "code",
      "source": [
        "arr1=np.array([2,6,2,3,4,9,5,9,6])"
      ],
      "metadata": {
        "id": "7qut87XXzZKS"
      },
      "execution_count": null,
      "outputs": []
    },
    {
      "cell_type": "code",
      "source": [
        "#importing matplotlib and plotting following graph\n",
        "import matplotlib.pyplot as plt\n",
        "plt.hist(arr1,bins=8)"
      ],
      "metadata": {
        "colab": {
          "base_uri": "https://localhost:8080/",
          "height": 317
        },
        "id": "crpq_oYPzE_9",
        "outputId": "1aa535f2-3327-425e-e0f8-1d8e67e33108"
      },
      "execution_count": null,
      "outputs": [
        {
          "output_type": "execute_result",
          "data": {
            "text/plain": [
              "(array([2., 1., 1., 1., 2., 0., 0., 2.]),\n",
              " array([2.   , 2.875, 3.75 , 4.625, 5.5  , 6.375, 7.25 , 8.125, 9.   ]),\n",
              " <a list of 8 Patch objects>)"
            ]
          },
          "metadata": {},
          "execution_count": 9
        },
        {
          "output_type": "display_data",
          "data": {
            "text/plain": [
              "<Figure size 432x288 with 1 Axes>"
            ],
            "image/png": "[encoded data removed]"
          },
          "metadata": {
            "needs_background": "light"
          }
        }
      ]
    }
  ]
}